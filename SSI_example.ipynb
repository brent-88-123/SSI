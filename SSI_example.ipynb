{
 "cells": [
  {
   "cell_type": "code",
   "execution_count": 1,
   "metadata": {},
   "outputs": [
    {
     "name": "stdout",
     "output_type": "stream",
     "text": [
      "c:\\Users\\brent\\AppData\\Local\\Programs\\Python\\Python311\\python.exe\n"
     ]
    }
   ],
   "source": [
    "# Import numerical process libraries\n",
    "import numpy as np\n",
    "import pandas as pd\n",
    "from scipy.linalg import svd, lstsq\n",
    "\n",
    "# Import plotly for graphing\n",
    "import plotly.express as px\n",
    "import plotly.graph_objects as go\n",
    "from plotly.subplots import make_subplots\n",
    "\n",
    "import sys\n",
    "print(sys.executable)"
   ]
  },
  {
   "cell_type": "markdown",
   "metadata": {},
   "source": [
    "Example SSI from data invented by chatGPT.\n",
    "\n",
    "X = [ lat acc; \n",
    "    long acc; \n",
    "    yaw rate; \n",
    "    v_x]\n",
    "\n",
    "u = [steer; brake; throttle]\n"
   ]
  },
  {
   "cell_type": "code",
   "execution_count": 2,
   "metadata": {},
   "outputs": [
    {
     "name": "stdout",
     "output_type": "stream",
     "text": [
      "Index(['yaw_rate', 'lateral_acc', 'long_acc', 'forward_speed',\n",
      "       'steering_angle', 'brake_pressure', 'throttle'],\n",
      "      dtype='object')\n"
     ]
    },
    {
     "data": {
      "text/plain": [
       "(1000, 7)"
      ]
     },
     "execution_count": 2,
     "metadata": {},
     "output_type": "execute_result"
    }
   ],
   "source": [
    "# Open and read file\n",
    "df= pd.read_csv(\"vehicle_data.csv\")\n",
    "veh_data = df.drop(columns=['time'], axis=1)\n",
    "\n",
    "headers = veh_data.columns\n",
    "print(headers)\n",
    "del(headers)\n",
    "\n",
    "np.shape(veh_data)"
   ]
  },
  {
   "cell_type": "code",
   "execution_count": 3,
   "metadata": {},
   "outputs": [],
   "source": [
    "def hank_matrix(data, p):\n",
    "    \"\"\"\n",
    "    Construct a Hankel Matrix\n",
    "\n",
    "    Args:\n",
    "        data: time series data that will be the basis of new Hankel matrix\n",
    "        p: Past window to apply to matrix\n",
    "    \"\"\"\n",
    "    \n",
    "    # Convert data to a NumPy float64 array\n",
    "    veh_data = np.array(data, dtype=np.float64)\n",
    "    \n",
    "    # Define the size of matrix\n",
    "    T,n = veh_data.shape\n",
    "    cols = T - p + 1\n",
    "    \n",
    "    # Create blank matrix\n",
    "    Z = np.zeros((p * n, cols))\n",
    "    \n",
    "    # Populate matrix from data series\n",
    "    for i in range(cols):\n",
    "        # For each column, stack p consecutive data vectors\n",
    "        for j in range(p):\n",
    "            Z[j*n:(j+1)*n, i] = veh_data[i+j,:]\n",
    "    \n",
    "    return Z"
   ]
  },
  {
   "cell_type": "code",
   "execution_count": null,
   "metadata": {},
   "outputs": [],
   "source": [
    "fig = make_subplots(rows=4,cols=1,\n",
    "    shared_xaxes=True,\n",
    "    vertical_spacing=0.1, specs=[[{\"secondary_y\": False}], [{\"secondary_y\": True}], [{\"secondary_y\": True}], [{\"secondary_y\": True}]])\n",
    "\n",
    "#show the steering trace\n",
    "fig.add_trace(go.Scatter(x=df['time'],y=df['steering_angle'], mode = 'lines', \n",
    "                            name='Steering (°)'), row =1, col=1)\n",
    "\n",
    "#show the long input traces\n",
    "fig.add_trace(go.Scatter(x=df['time'],y=df['brake_pressure'], mode = 'lines',\n",
    "                            name='Brake'), row =2, col=1, secondary_y=False)\n",
    "fig.add_trace(go.Scatter(x=df['time'],y=df['throttle'], mode = 'lines', \n",
    "                            name='Throttle', ), row =2, col=1, secondary_y=True)\n",
    "\n",
    "#show the acceleration traces\n",
    "fig.add_trace(go.Scatter(x=df['time'],y=df['lateral_acc'], mode = 'lines',\n",
    "                         name='Lateral acc [G]'), row =3, col=1, secondary_y=False)\n",
    "fig.add_trace(go.Scatter(x=df['time'],y=df['long_acc'], mode = 'lines',\n",
    "                         name='Long Acc [G]'), row =3, col=1, secondary_y=False)\n",
    "\n",
    "\n",
    "#show the velocity traces\n",
    "fig.add_trace(go.Scatter(x=df['time'],y=df['forward_speed'], mode = 'lines',\n",
    "                         name='speed[m/s]'), row =4, col=1, secondary_y=False)\n",
    "fig.add_trace(go.Scatter(x=df['time'],y=df['yaw_rate'], mode = 'lines',\n",
    "                         name='Yaw'), row =4, col=1, secondary_y=True)\n",
    "\n",
    "\n",
    "fig.show()\n",
    "\n",
    "del fig"
   ]
  },
  {
   "cell_type": "code",
   "execution_count": 10,
   "metadata": {},
   "outputs": [],
   "source": [
    "def subspace_id(U, Y, p):\n",
    "    \"\"\"\n",
    "    Implements Subspace System Identification (SSI) to estimate system matrices.\n",
    "    - U: (T, m) Input data\n",
    "    - Y: (T, n) Output data\n",
    "    - p: Past window size\n",
    "    Returns estimated A, B, C matrices.\n",
    "    \"\"\"\n",
    "    # Step 1: Construct Hankel Matrices\n",
    "    H_U = hank_matrix(U, p)  # Input Hankel\n",
    "    H_Y = hank_matrix(Y, p)  # Output Hankel\n",
    "\n",
    "    # Step 2: Perform SVD on Output Hankel Matrix\n",
    "    U_svd, S_svd, Vh_svd = svd(H_Y, full_matrices=False)\n",
    "\n",
    "    # Step 3: Estimate System Order (rank selection)\n",
    "    system_order = np.sum(S_svd > 1e-2)  # Select rank based on singular values\n",
    "\n",
    "    # Step 4: Compute Extended Observability Matrix\n",
    "    O_p = U_svd[:, :system_order] @ np.diag(np.sqrt(S_svd[:system_order]))\n",
    "\n",
    "    # Step 5: Extract A and C from Observability\n",
    "    O_p1 = O_p[:-Y.shape[1], :]\n",
    "    O_p2 = O_p[Y.shape[1]:, :]\n",
    "    \n",
    "    A = lstsq(O_p1, O_p2)[0]  # A matrix (state transition)\n",
    "    C = O_p[:Y.shape[1], :]  # C matrix (output matrix)\n",
    "\n",
    "    # Step 6: Solve for B using least squares\n",
    "    X = lstsq(O_p, H_Y[:O_p.shape[0], :])[0]  # Estimate states\n",
    "    B = lstsq(X[:, :-1].T @ X[:, :-1], X[:, :-1].T @ U[:-1, :])[0]  # Solve B\n",
    "\n",
    "    return A, B, C\n"
   ]
  },
  {
   "cell_type": "code",
   "execution_count": 8,
   "metadata": {},
   "outputs": [],
   "source": [
    "U = veh_data.iloc[:,4:]\n",
    "Y = veh_data.iloc[:,:4]"
   ]
  },
  {
   "cell_type": "code",
   "execution_count": 12,
   "metadata": {},
   "outputs": [
    {
     "ename": "InvalidIndexError",
     "evalue": "(slice(None, -1, None), slice(None, None, None))",
     "output_type": "error",
     "traceback": [
      "\u001b[1;31m---------------------------------------------------------------------------\u001b[0m",
      "\u001b[1;31mTypeError\u001b[0m                                 Traceback (most recent call last)",
      "File \u001b[1;32mc:\\Users\\brent\\AppData\\Local\\Programs\\Python\\Python311\\Lib\\site-packages\\pandas\\core\\indexes\\base.py:3653\u001b[0m, in \u001b[0;36mIndex.get_loc\u001b[1;34m(self, key)\u001b[0m\n\u001b[0;32m   3652\u001b[0m \u001b[38;5;28;01mtry\u001b[39;00m:\n\u001b[1;32m-> 3653\u001b[0m     \u001b[38;5;28;01mreturn\u001b[39;00m \u001b[38;5;28;43mself\u001b[39;49m\u001b[38;5;241;43m.\u001b[39;49m\u001b[43m_engine\u001b[49m\u001b[38;5;241;43m.\u001b[39;49m\u001b[43mget_loc\u001b[49m\u001b[43m(\u001b[49m\u001b[43mcasted_key\u001b[49m\u001b[43m)\u001b[49m\n\u001b[0;32m   3654\u001b[0m \u001b[38;5;28;01mexcept\u001b[39;00m \u001b[38;5;167;01mKeyError\u001b[39;00m \u001b[38;5;28;01mas\u001b[39;00m err:\n",
      "File \u001b[1;32mc:\\Users\\brent\\AppData\\Local\\Programs\\Python\\Python311\\Lib\\site-packages\\pandas\\_libs\\index.pyx:147\u001b[0m, in \u001b[0;36mpandas._libs.index.IndexEngine.get_loc\u001b[1;34m()\u001b[0m\n",
      "File \u001b[1;32mc:\\Users\\brent\\AppData\\Local\\Programs\\Python\\Python311\\Lib\\site-packages\\pandas\\_libs\\index.pyx:153\u001b[0m, in \u001b[0;36mpandas._libs.index.IndexEngine.get_loc\u001b[1;34m()\u001b[0m\n",
      "\u001b[1;31mTypeError\u001b[0m: '(slice(None, -1, None), slice(None, None, None))' is an invalid key",
      "\nDuring handling of the above exception, another exception occurred:\n",
      "\u001b[1;31mInvalidIndexError\u001b[0m                         Traceback (most recent call last)",
      "Cell \u001b[1;32mIn[12], line 5\u001b[0m\n\u001b[0;32m      2\u001b[0m p \u001b[38;5;241m=\u001b[39m \u001b[38;5;241m100\u001b[39m  \u001b[38;5;66;03m# Typically chosen based on expected system order\u001b[39;00m\n\u001b[0;32m      4\u001b[0m \u001b[38;5;66;03m# Run Subspace System Identification\u001b[39;00m\n\u001b[1;32m----> 5\u001b[0m A_est, B_est, C_est \u001b[38;5;241m=\u001b[39m \u001b[43msubspace_id\u001b[49m\u001b[43m(\u001b[49m\u001b[43mU\u001b[49m\u001b[43m,\u001b[49m\u001b[43m \u001b[49m\u001b[43mY\u001b[49m\u001b[43m,\u001b[49m\u001b[43m \u001b[49m\u001b[43mp\u001b[49m\u001b[43m)\u001b[49m\n\u001b[0;32m      7\u001b[0m \u001b[38;5;66;03m# Print Results\u001b[39;00m\n\u001b[0;32m      8\u001b[0m \u001b[38;5;28mprint\u001b[39m(\u001b[38;5;124m\"\u001b[39m\u001b[38;5;124mEstimated A matrix (State Transition):\u001b[39m\u001b[38;5;130;01m\\n\u001b[39;00m\u001b[38;5;124m\"\u001b[39m, A_est)\n",
      "Cell \u001b[1;32mIn[10], line 31\u001b[0m, in \u001b[0;36msubspace_id\u001b[1;34m(U, Y, p)\u001b[0m\n\u001b[0;32m     29\u001b[0m \u001b[38;5;66;03m# Step 6: Solve for B using least squares\u001b[39;00m\n\u001b[0;32m     30\u001b[0m X \u001b[38;5;241m=\u001b[39m lstsq(O_p, H_Y[:O_p\u001b[38;5;241m.\u001b[39mshape[\u001b[38;5;241m0\u001b[39m], :])[\u001b[38;5;241m0\u001b[39m]  \u001b[38;5;66;03m# Estimate states\u001b[39;00m\n\u001b[1;32m---> 31\u001b[0m B \u001b[38;5;241m=\u001b[39m lstsq(X[:, :\u001b[38;5;241m-\u001b[39m\u001b[38;5;241m1\u001b[39m]\u001b[38;5;241m.\u001b[39mT \u001b[38;5;241m@\u001b[39m X[:, :\u001b[38;5;241m-\u001b[39m\u001b[38;5;241m1\u001b[39m], X[:, :\u001b[38;5;241m-\u001b[39m\u001b[38;5;241m1\u001b[39m]\u001b[38;5;241m.\u001b[39mT \u001b[38;5;241m@\u001b[39m \u001b[43mU\u001b[49m\u001b[43m[\u001b[49m\u001b[43m:\u001b[49m\u001b[38;5;241;43m-\u001b[39;49m\u001b[38;5;241;43m1\u001b[39;49m\u001b[43m,\u001b[49m\u001b[43m \u001b[49m\u001b[43m:\u001b[49m\u001b[43m]\u001b[49m)[\u001b[38;5;241m0\u001b[39m]  \u001b[38;5;66;03m# Solve B\u001b[39;00m\n\u001b[0;32m     33\u001b[0m \u001b[38;5;28;01mreturn\u001b[39;00m A, B, C\n",
      "File \u001b[1;32mc:\\Users\\brent\\AppData\\Local\\Programs\\Python\\Python311\\Lib\\site-packages\\pandas\\core\\frame.py:3761\u001b[0m, in \u001b[0;36mDataFrame.__getitem__\u001b[1;34m(self, key)\u001b[0m\n\u001b[0;32m   3759\u001b[0m \u001b[38;5;28;01mif\u001b[39;00m \u001b[38;5;28mself\u001b[39m\u001b[38;5;241m.\u001b[39mcolumns\u001b[38;5;241m.\u001b[39mnlevels \u001b[38;5;241m>\u001b[39m \u001b[38;5;241m1\u001b[39m:\n\u001b[0;32m   3760\u001b[0m     \u001b[38;5;28;01mreturn\u001b[39;00m \u001b[38;5;28mself\u001b[39m\u001b[38;5;241m.\u001b[39m_getitem_multilevel(key)\n\u001b[1;32m-> 3761\u001b[0m indexer \u001b[38;5;241m=\u001b[39m \u001b[38;5;28;43mself\u001b[39;49m\u001b[38;5;241;43m.\u001b[39;49m\u001b[43mcolumns\u001b[49m\u001b[38;5;241;43m.\u001b[39;49m\u001b[43mget_loc\u001b[49m\u001b[43m(\u001b[49m\u001b[43mkey\u001b[49m\u001b[43m)\u001b[49m\n\u001b[0;32m   3762\u001b[0m \u001b[38;5;28;01mif\u001b[39;00m is_integer(indexer):\n\u001b[0;32m   3763\u001b[0m     indexer \u001b[38;5;241m=\u001b[39m [indexer]\n",
      "File \u001b[1;32mc:\\Users\\brent\\AppData\\Local\\Programs\\Python\\Python311\\Lib\\site-packages\\pandas\\core\\indexes\\base.py:3660\u001b[0m, in \u001b[0;36mIndex.get_loc\u001b[1;34m(self, key)\u001b[0m\n\u001b[0;32m   3655\u001b[0m     \u001b[38;5;28;01mraise\u001b[39;00m \u001b[38;5;167;01mKeyError\u001b[39;00m(key) \u001b[38;5;28;01mfrom\u001b[39;00m \u001b[38;5;21;01merr\u001b[39;00m\n\u001b[0;32m   3656\u001b[0m \u001b[38;5;28;01mexcept\u001b[39;00m \u001b[38;5;167;01mTypeError\u001b[39;00m:\n\u001b[0;32m   3657\u001b[0m     \u001b[38;5;66;03m# If we have a listlike key, _check_indexing_error will raise\u001b[39;00m\n\u001b[0;32m   3658\u001b[0m     \u001b[38;5;66;03m#  InvalidIndexError. Otherwise we fall through and re-raise\u001b[39;00m\n\u001b[0;32m   3659\u001b[0m     \u001b[38;5;66;03m#  the TypeError.\u001b[39;00m\n\u001b[1;32m-> 3660\u001b[0m     \u001b[38;5;28;43mself\u001b[39;49m\u001b[38;5;241;43m.\u001b[39;49m\u001b[43m_check_indexing_error\u001b[49m\u001b[43m(\u001b[49m\u001b[43mkey\u001b[49m\u001b[43m)\u001b[49m\n\u001b[0;32m   3661\u001b[0m     \u001b[38;5;28;01mraise\u001b[39;00m\n",
      "File \u001b[1;32mc:\\Users\\brent\\AppData\\Local\\Programs\\Python\\Python311\\Lib\\site-packages\\pandas\\core\\indexes\\base.py:5737\u001b[0m, in \u001b[0;36mIndex._check_indexing_error\u001b[1;34m(self, key)\u001b[0m\n\u001b[0;32m   5733\u001b[0m \u001b[38;5;28;01mdef\u001b[39;00m \u001b[38;5;21m_check_indexing_error\u001b[39m(\u001b[38;5;28mself\u001b[39m, key):\n\u001b[0;32m   5734\u001b[0m     \u001b[38;5;28;01mif\u001b[39;00m \u001b[38;5;129;01mnot\u001b[39;00m is_scalar(key):\n\u001b[0;32m   5735\u001b[0m         \u001b[38;5;66;03m# if key is not a scalar, directly raise an error (the code below\u001b[39;00m\n\u001b[0;32m   5736\u001b[0m         \u001b[38;5;66;03m# would convert to numpy arrays and raise later any way) - GH29926\u001b[39;00m\n\u001b[1;32m-> 5737\u001b[0m         \u001b[38;5;28;01mraise\u001b[39;00m InvalidIndexError(key)\n",
      "\u001b[1;31mInvalidIndexError\u001b[0m: (slice(None, -1, None), slice(None, None, None))"
     ]
    }
   ],
   "source": [
    "# Define past horizon window size (p)\n",
    "p = 100  # Typically chosen based on expected system order\n",
    "\n",
    "# Run Subspace System Identification\n",
    "A_est, B_est, C_est = subspace_id(U, Y, p)\n",
    "\n",
    "# Print Results\n",
    "print(\"Estimated A matrix (State Transition):\\n\", A_est)\n",
    "print(\"\\nEstimated B matrix (Input Influence):\\n\", B_est)\n",
    "print(\"\\nEstimated C matrix (Output Mapping):\\n\", C_est)"
   ]
  }
 ],
 "metadata": {
  "kernelspec": {
   "display_name": "Python 3",
   "language": "python",
   "name": "python3"
  },
  "language_info": {
   "codemirror_mode": {
    "name": "ipython",
    "version": 3
   },
   "file_extension": ".py",
   "mimetype": "text/x-python",
   "name": "python",
   "nbconvert_exporter": "python",
   "pygments_lexer": "ipython3",
   "version": "3.11.4"
  }
 },
 "nbformat": 4,
 "nbformat_minor": 2
}
